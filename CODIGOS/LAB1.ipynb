{
  "cells": [
    {
      "cell_type": "code",
      "execution_count": 72,
      "metadata": {
        "id": "Vk0bnhiMbuMn"
      },
      "outputs": [],
      "source": [
        "import numpy as np\n",
        "import matplotlib.pyplot as plt\n",
        "import pandas as pd "
      ]
    },
    {
      "cell_type": "markdown",
      "metadata": {
        "id": "prmbMifqbvOu"
      },
      "source": [
        "LABORATORIO 1: SUPERFICIES EQUIPOTENCIALES.\n",
        "\n",
        "RAUL MARTINEZ\n",
        "\n",
        "NATHALIA PEREZ"
      ]
    },
    {
      "cell_type": "markdown",
      "source": [
        "DATOS PARA AMBOS ELECTRODOS PARALELOS."
      ],
      "metadata": {
        "id": "S31_g9OEtPUY"
      }
    },
    {
      "cell_type": "code",
      "execution_count": 73,
      "metadata": {
        "colab": {
          "base_uri": "https://localhost:8080/",
          "height": 300
        },
        "id": "cZx3PhmTxjwL",
        "outputId": "e164d74e-6d9b-4845-efc5-9009354327e5"
      },
      "outputs": [
        {
          "output_type": "display_data",
          "data": {
            "image/png": "[encoded data removed]",
            "text/plain": [
              "<Figure size 432x288 with 1 Axes>"
            ]
          },
          "metadata": {
            "needs_background": "light"
          }
        }
      ],
      "source": [
        "#Lectura de datos tomados en el laboratorio\n",
        "\n",
        "x1 = pd.read_excel('T.B lab1.xlsx',usecols='B',skiprows=[7,8,9,10,11,12])\n",
        "y1 = pd.read_excel('T.B lab1.xlsx',usecols='B',skiprows=[0,1,2,3,4,5])\n",
        "\n",
        "#creacion de vectores:\n",
        "\n",
        "x1 = np.array(x1)\n",
        "y1 = np.array(y1)\n",
        "\n",
        "fig, ax = plt.subplots()\n",
        "ax.plot(x1,y1,'k*')\n",
        "ax.set_title('voltaje  de -4.62[v]', loc = \"center\", fontdict = {'fontsize':14, 'fontweight':'bold', 'color':'gray'})\n",
        "ax.set_xlabel(\"x [cm]\", fontdict = {'fontsize':14, 'fontweight':'bold', 'color':'tab:gray'})\n",
        "ax.set_ylabel(\"y [cm]\", fontdict = {'fontsize':14, 'fontweight':'bold', 'color':'tab:gray'})\n",
        "plt.show()"
      ]
    },
    {
      "cell_type": "code",
      "execution_count": 74,
      "metadata": {
        "id": "g25froDdJhzc",
        "colab": {
          "base_uri": "https://localhost:8080/"
        },
        "outputId": "53da7bf6-cda3-47cc-80c5-6084439452e5"
      },
      "outputs": [
        {
          "output_type": "stream",
          "name": "stdout",
          "text": [
            "[0.0]\n",
            "[0.0, 0.09999999999999964]\n",
            "[0.0, 0.09999999999999964, 0.20000000000000018]\n",
            "[0.0, 0.09999999999999964, 0.20000000000000018, 0.09999999999999964]\n",
            "[0.0, 0.09999999999999964, 0.20000000000000018, 0.09999999999999964, 0.09999999999999964]\n",
            "[0.0, 0.09999999999999964, 0.20000000000000018, 0.09999999999999964, 0.09999999999999964, 0.09999999999999964]\n"
          ]
        }
      ],
      "source": [
        "#Calculo del error entre los puntos.\n",
        "\n",
        "i=0\n",
        "errores1=[]\n",
        "\n",
        "for i in range(len(x1)):\n",
        "  errores1.append(np.sqrt((x1[i,0]-7)**2))\n",
        "  print(errores1)"
      ]
    },
    {
      "cell_type": "code",
      "execution_count": 75,
      "metadata": {
        "id": "IbwLSWwcEhp8",
        "colab": {
          "base_uri": "https://localhost:8080/",
          "height": 300
        },
        "outputId": "26ed0720-8bb9-421d-85cf-3cd867944a2e"
      },
      "outputs": [
        {
          "output_type": "display_data",
          "data": {
            "image/png": "[encoded data removed]",
            "text/plain": [
              "<Figure size 432x288 with 1 Axes>"
            ]
          },
          "metadata": {
            "needs_background": "light"
          }
        }
      ],
      "source": [
        "#Lectura de datos tomados en el laboratorio\n",
        "\n",
        "x2 = pd.read_excel('T.B lab1.xlsx',usecols='C',skiprows=[7,8,9,10,11,12])\n",
        "y2 = pd.read_excel('T.B lab1.xlsx',usecols='C',skiprows=[1,2,3,4,5,6])\n",
        "\n",
        "#creacion de vectores:\n",
        "\n",
        "x2 = np.array(x2)\n",
        "y2 = np.array(y2)\n",
        "\n",
        "fig, ax = plt.subplots()\n",
        "ax.plot(x2,y2,'m*')\n",
        "ax.set_title('voltaje  de -3.98[v]', loc = \"center\", fontdict = {'fontsize':14, 'fontweight':'bold', 'color':'gray'})\n",
        "ax.set_xlabel(\"x [cm]\", fontdict = {'fontsize':14, 'fontweight':'bold', 'color':'tab:gray'})\n",
        "ax.set_ylabel(\"y [cm]\", fontdict = {'fontsize':14, 'fontweight':'bold', 'color':'tab:gray'})\n",
        "plt.show()"
      ]
    },
    {
      "cell_type": "code",
      "execution_count": 76,
      "metadata": {
        "id": "SnutmKpRJjUT",
        "colab": {
          "base_uri": "https://localhost:8080/"
        },
        "outputId": "81ede30c-0dea-4444-f9ac-42ae10f87876"
      },
      "outputs": [
        {
          "output_type": "stream",
          "name": "stdout",
          "text": [
            "[0.0]\n",
            "[0.0, 0.0]\n",
            "[0.0, 0.0, 0.20000000000000018]\n",
            "[0.0, 0.0, 0.20000000000000018, 0.0]\n",
            "[0.0, 0.0, 0.20000000000000018, 0.0, 0.09999999999999964]\n",
            "[0.0, 0.0, 0.20000000000000018, 0.0, 0.09999999999999964, 0.09999999999999964]\n"
          ]
        }
      ],
      "source": [
        "#Calculo del error entre los puntos.\n",
        "\n",
        "i=0\n",
        "errores2=[]\n",
        "\n",
        "for i in range(len(x2)):\n",
        "  errores2.append(np.sqrt((x2[i,0]-6)**2))\n",
        "  print(errores2)"
      ]
    },
    {
      "cell_type": "code",
      "execution_count": 77,
      "metadata": {
        "id": "MRVupq0zFsbF",
        "colab": {
          "base_uri": "https://localhost:8080/",
          "height": 300
        },
        "outputId": "10401142-019a-4bfb-db40-ee06ec922d4a"
      },
      "outputs": [
        {
          "output_type": "display_data",
          "data": {
            "image/png": "[encoded data removed]",
            "text/plain": [
              "<Figure size 432x288 with 1 Axes>"
            ]
          },
          "metadata": {
            "needs_background": "light"
          }
        }
      ],
      "source": [
        "#Lectura de datos tomados en el laboratorio\n",
        "\n",
        "x3 = pd.read_excel('T.B lab1.xlsx',usecols='D',skiprows=[7,8,9,10,11,12])\n",
        "y3 = pd.read_excel('T.B lab1.xlsx',usecols='D',skiprows=[1,2,3,4,5,6])\n",
        "\n",
        "#creacion de vectores:\n",
        "\n",
        "x3 = np.array(x3)\n",
        "y3 = np.array(y3)\n",
        "\n",
        "fig, ax = plt.subplots()\n",
        "ax.plot(x3,y3,'c*')\n",
        "ax.set_title('voltaje  de -3.2[v]', loc = \"center\", fontdict = {'fontsize':14, 'fontweight':'bold', 'color':'gray'})\n",
        "ax.set_xlabel(\"x [cm]\", fontdict = {'fontsize':14, 'fontweight':'bold', 'color':'tab:gray'})\n",
        "ax.set_ylabel(\"y [cm]\", fontdict = {'fontsize':14, 'fontweight':'bold', 'color':'tab:gray'})\n",
        "plt.show()"
      ]
    },
    {
      "cell_type": "code",
      "execution_count": 78,
      "metadata": {
        "id": "kumorF9qJ6E8",
        "colab": {
          "base_uri": "https://localhost:8080/"
        },
        "outputId": "de73bed4-5ad4-4a91-8e5d-8fecfef0e78e"
      },
      "outputs": [
        {
          "output_type": "stream",
          "name": "stdout",
          "text": [
            "[0.0]\n",
            "[0.0, 0.09999999999999964]\n",
            "[0.0, 0.09999999999999964, 0.20000000000000018]\n",
            "[0.0, 0.09999999999999964, 0.20000000000000018, 0.0]\n",
            "[0.0, 0.09999999999999964, 0.20000000000000018, 0.0, 1.0999999999999996]\n",
            "[0.0, 0.09999999999999964, 0.20000000000000018, 0.0, 1.0999999999999996, 0.20000000000000018]\n"
          ]
        }
      ],
      "source": [
        "#Calculo del error entre los puntos.\n",
        "\n",
        "i=0\n",
        "errores3=[]\n",
        "\n",
        "for i in range(len(x3)):\n",
        "  errores3.append(np.sqrt((x3[i,0]-5)**2))\n",
        "  print(errores3) "
      ]
    },
    {
      "cell_type": "code",
      "execution_count": 79,
      "metadata": {
        "id": "d_hiHCIkF70J",
        "colab": {
          "base_uri": "https://localhost:8080/",
          "height": 300
        },
        "outputId": "ad0e7bab-eed8-4f86-80e4-0baa59687ee9"
      },
      "outputs": [
        {
          "output_type": "display_data",
          "data": {
            "image/png": "[encoded data removed]",
            "text/plain": [
              "<Figure size 432x288 with 1 Axes>"
            ]
          },
          "metadata": {
            "needs_background": "light"
          }
        }
      ],
      "source": [
        "#Lectura de datos tomados en el laboratorio\n",
        "\n",
        "x4 = pd.read_excel('T.B lab1.xlsx',usecols='E',skiprows=[7,8,9,10,11,12])\n",
        "y4 = pd.read_excel('T.B lab1.xlsx',usecols='E',skiprows=[1,2,3,4,5,6])\n",
        "\n",
        "#creacion de vectores:\n",
        "\n",
        "x4 = np.array(x4)\n",
        "y4 = np.array(y4)\n",
        "\n",
        "fig, ax = plt.subplots()\n",
        "ax.plot(x4,y4,'y*')\n",
        "ax.set_title('voltaje  de 4.48[v]', loc = \"center\", fontdict = {'fontsize':14, 'fontweight':'bold', 'color':'gray'})\n",
        "ax.set_xlabel(\"x [cm]\", fontdict = {'fontsize':14, 'fontweight':'bold', 'color':'tab:gray'})\n",
        "ax.set_ylabel(\"y [cm]\", fontdict = {'fontsize':14, 'fontweight':'bold', 'color':'tab:gray'})\n",
        "plt.show()"
      ]
    },
    {
      "cell_type": "code",
      "execution_count": 80,
      "metadata": {
        "id": "j5FajSiQKJ4g",
        "colab": {
          "base_uri": "https://localhost:8080/"
        },
        "outputId": "558b02b0-3eb1-4761-bc98-04a903d98923"
      },
      "outputs": [
        {
          "output_type": "stream",
          "name": "stdout",
          "text": [
            "[0.0]\n",
            "[0.0, 0.20000000000000018]\n",
            "[0.0, 0.20000000000000018, 0.15000000000000036]\n",
            "[0.0, 0.20000000000000018, 0.15000000000000036, 0.0]\n",
            "[0.0, 0.20000000000000018, 0.15000000000000036, 0.0, 0.09999999999999964]\n",
            "[0.0, 0.20000000000000018, 0.15000000000000036, 0.0, 0.09999999999999964, 0.20000000000000018]\n"
          ]
        }
      ],
      "source": [
        "#Calculo del error entre los puntos.\n",
        "\n",
        "i=0\n",
        "errores4=[]\n",
        "\n",
        "for i in range(len(x4)):\n",
        "  errores4.append(np.sqrt((x4[i,0]-(-7))**2))\n",
        "  print(errores4) "
      ]
    },
    {
      "cell_type": "code",
      "execution_count": 81,
      "metadata": {
        "id": "kEOWZ2EoGRLj",
        "colab": {
          "base_uri": "https://localhost:8080/",
          "height": 300
        },
        "outputId": "c183d702-a8e7-47ab-dd27-847c41abe9e8"
      },
      "outputs": [
        {
          "output_type": "display_data",
          "data": {
            "image/png": "[encoded data removed]",
            "text/plain": [
              "<Figure size 432x288 with 1 Axes>"
            ]
          },
          "metadata": {
            "needs_background": "light"
          }
        }
      ],
      "source": [
        "#Lectura de datos tomados en el laboratorio\n",
        "\n",
        "x5 = pd.read_excel('T.B lab1.xlsx',usecols='F',skiprows=[7,8,9,10,11,12])\n",
        "y5 = pd.read_excel('T.B lab1.xlsx',usecols='F',skiprows=[1,2,3,4,5,6])\n",
        "\n",
        "#creacion de vectores:\n",
        "\n",
        "x5 = np.array(x5)\n",
        "y5 = np.array(y5)\n",
        "\n",
        "fig, ax = plt.subplots()\n",
        "ax.plot(x5,y5,'g*')\n",
        "ax.set_title('voltaje  de 3.9[v]', loc = \"center\", fontdict = {'fontsize':14, 'fontweight':'bold', 'color':'gray'})\n",
        "ax.set_xlabel(\"x [cm]\", fontdict = {'fontsize':14, 'fontweight':'bold', 'color':'tab:gray'})\n",
        "ax.set_ylabel(\"y [cm]\", fontdict = {'fontsize':14, 'fontweight':'bold', 'color':'tab:gray'})\n",
        "plt.show()"
      ]
    },
    {
      "cell_type": "code",
      "execution_count": 125,
      "metadata": {
        "id": "zTG20ggdKemj",
        "colab": {
          "base_uri": "https://localhost:8080/"
        },
        "outputId": "599635ee-bf2e-455b-8918-afb66deb3aa8"
      },
      "outputs": [
        {
          "output_type": "stream",
          "name": "stdout",
          "text": [
            "[0.0]\n",
            "[0.0, 0.0]\n",
            "[0.0, 0.0, 0.1900000000000004]\n",
            "[0.0, 0.0, 0.1900000000000004, 0.09999999999999964]\n",
            "[0.0, 0.0, 0.1900000000000004, 0.09999999999999964, 0.0]\n",
            "[0.0, 0.0, 0.1900000000000004, 0.09999999999999964, 0.0, 0.0]\n"
          ]
        }
      ],
      "source": [
        "#Calculo del error entre los puntos.\n",
        "\n",
        "i=0\n",
        "errores5=[]\n",
        "\n",
        "for i in range(len(x5)):\n",
        "  errores5.append(np.sqrt((x5[i,0]-(-6))**2))\n",
        "  print(errores5) "
      ]
    },
    {
      "cell_type": "code",
      "execution_count": 83,
      "metadata": {
        "id": "_uQGrrgeGuFL",
        "colab": {
          "base_uri": "https://localhost:8080/",
          "height": 300
        },
        "outputId": "55275853-7c7a-415b-896f-f0524452f207"
      },
      "outputs": [
        {
          "output_type": "display_data",
          "data": {
            "image/png": "[encoded data removed]",
            "text/plain": [
              "<Figure size 432x288 with 1 Axes>"
            ]
          },
          "metadata": {
            "needs_background": "light"
          }
        }
      ],
      "source": [
        "#Lectura de datos tomados en el laboratorio\n",
        "\n",
        "x6 = pd.read_excel('T.B lab1.xlsx',usecols='G',skiprows=[7,8,9,10,11,12])\n",
        "y6 = pd.read_excel('T.B lab1.xlsx',usecols='G',skiprows=[1,2,3,4,5,6])\n",
        "\n",
        "#creacion de vectores:\n",
        "\n",
        "x6 = np.array(x6)\n",
        "y6 = np.array(y6)\n",
        "\n",
        "fig, ax = plt.subplots()\n",
        "ax.plot(x6,y6,'r*')\n",
        "ax.set_title('voltaje  de 3[v]', loc = \"center\", fontdict = {'fontsize':14, 'fontweight':'bold', 'color':'gray'})\n",
        "ax.set_xlabel(\"x [cm]\", fontdict = {'fontsize':14, 'fontweight':'bold', 'color':'tab:gray'})\n",
        "ax.set_ylabel(\"y [cm]\", fontdict = {'fontsize':14, 'fontweight':'bold', 'color':'tab:gray'})\n",
        "plt.show()"
      ]
    },
    {
      "cell_type": "code",
      "execution_count": 126,
      "metadata": {
        "id": "9Pi-C36iSf8k",
        "colab": {
          "base_uri": "https://localhost:8080/"
        },
        "outputId": "b4bd0843-9d9d-4714-9a57-97192dd23376"
      },
      "outputs": [
        {
          "output_type": "stream",
          "name": "stdout",
          "text": [
            "[0.0]\n",
            "[0.0, 0.20000000000000018]\n",
            "[0.0, 0.20000000000000018, 0.20000000000000018]\n",
            "[0.0, 0.20000000000000018, 0.20000000000000018, 0.0]\n",
            "[0.0, 0.20000000000000018, 0.20000000000000018, 0.0, 0.04999999999999982]\n",
            "[0.0, 0.20000000000000018, 0.20000000000000018, 0.0, 0.04999999999999982, 0.09999999999999964]\n"
          ]
        }
      ],
      "source": [
        "#Calculo del error entre los puntos.\n",
        "\n",
        "i=0\n",
        "errores6=[]\n",
        "\n",
        "for i in range(len(x6)):\n",
        "  errores6.append(np.sqrt((x6[i,0]-(-4))**2))\n",
        "  print(errores6) "
      ]
    },
    {
      "cell_type": "code",
      "execution_count": 85,
      "metadata": {
        "id": "fezRCLwnSg36"
      },
      "outputs": [],
      "source": [
        "v = [-4.62,-3.98,-3.2,4.48,3.9,4.4] \n",
        "l = [7,6,5,-7,-6,-4] #Los valores de esta lista puede ser cualquier columna de datos del eje X en el excel."
      ]
    },
    {
      "cell_type": "code",
      "execution_count": 86,
      "metadata": {
        "id": "T4xS485BdLS1",
        "colab": {
          "base_uri": "https://localhost:8080/"
        },
        "outputId": "56b3fe13-6625-41e4-d3db-8fa58bef9a68"
      },
      "outputs": [
        {
          "output_type": "stream",
          "name": "stdout",
          "text": [
            "[-0.6400000000000001, -0.7799999999999998, -0.64, -0.5800000000000005, 0.2500000000000002]\n"
          ]
        }
      ],
      "source": [
        "E=[]\n",
        "for cont in range(0,len(v)):\n",
        "\n",
        "  if cont < 5:\n",
        "    E.append((v[cont]-v[cont+1])/(l[cont]-l[cont+1])) #Recuerda que se toman 4 valores, dos para el voltaje y dos de posicion.\n",
        "    \n",
        "  if cont == 5:\n",
        "    break\n",
        "print(E) #Arroja lista de los valores de campo electrico para cada conjunto de puntos."
      ]
    },
    {
      "cell_type": "code",
      "source": [
        "e= []\n",
        "e.append(31)\n",
        "e.append(31)\n",
        "print(e)"
      ],
      "metadata": {
        "colab": {
          "base_uri": "https://localhost:8080/"
        },
        "id": "n6y_itHDjueo",
        "outputId": "50e49769-841a-4932-94f9-41067a5d6ede"
      },
      "execution_count": 87,
      "outputs": [
        {
          "output_type": "stream",
          "name": "stdout",
          "text": [
            "[31, 31]\n"
          ]
        }
      ]
    },
    {
      "cell_type": "markdown",
      "source": [
        "DATOS ELECTRODOS CIRCULARES."
      ],
      "metadata": {
        "id": "MNVOzaQptg_0"
      }
    },
    {
      "cell_type": "code",
      "source": [
        "#Lectura de datos tomados en el laboratorio\n",
        "\n",
        "xc1 = pd.read_excel('T.B lab1.xlsx','C,C',usecols='B',skiprows=[7,8,9,10,11,12])\n",
        "yc1= pd.read_excel('T.B lab1.xlsx','C,C',usecols='B',skiprows=[1,2,3,4,5,6])\n",
        "#creacion de vectores:\n",
        "\n",
        "xc1 = np.array(xc1)\n",
        "yc1 = np.array(yc1)\n",
        "\n",
        "fig, ax = plt.subplots()\n",
        "ax.plot(xc1,yc1,'g*')\n",
        "ax.set_title('voltaje  de -3[v]', loc = \"center\", fontdict = {'fontsize':14, 'fontweight':'bold', 'color':'gray'})\n",
        "ax.set_xlabel(\"x [cm]\", fontdict = {'fontsize':14, 'fontweight':'bold', 'color':'tab:gray'})\n",
        "ax.set_ylabel(\"y [cm]\", fontdict = {'fontsize':14, 'fontweight':'bold', 'color':'tab:gray'})\n",
        "plt.show()"
      ],
      "metadata": {
        "id": "wDz7CrpjuPPF",
        "colab": {
          "base_uri": "https://localhost:8080/",
          "height": 300
        },
        "outputId": "7b785066-7f45-4dfd-d38f-c1103e0f1d53"
      },
      "execution_count": 88,
      "outputs": [
        {
          "output_type": "display_data",
          "data": {
            "image/png": "[encoded data removed]",
            "text/plain": [
              "<Figure size 432x288 with 1 Axes>"
            ]
          },
          "metadata": {
            "needs_background": "light"
          }
        }
      ]
    },
    {
      "cell_type": "code",
      "source": [
        "#Lectura de datos tomados en el laboratorio\n",
        "\n",
        "xc2 = pd.read_excel('T.B lab1.xlsx','C,C',usecols='C',skiprows=[7,8,9,10,11,12])\n",
        "yc2 = pd.read_excel('T.B lab1.xlsx','C,C',usecols='C',skiprows=[1,2,3,4,5,6])\n",
        "\n",
        "#creacion de vectores:\n",
        "\n",
        "xc2 = np.array(xc2)\n",
        "yc2 = np.array(yc2)\n",
        "\n",
        "fig, ax = plt.subplots()\n",
        "ax.plot(xc2,yc2,'b*')\n",
        "ax.set_title('voltaje  de -1.6[v]', loc = \"center\", fontdict = {'fontsize':14, 'fontweight':'bold', 'color':'gray'})\n",
        "ax.set_xlabel(\"x [cm]\", fontdict = {'fontsize':14, 'fontweight':'bold', 'color':'tab:gray'})\n",
        "ax.set_ylabel(\"y [cm]\", fontdict = {'fontsize':14, 'fontweight':'bold', 'color':'tab:gray'})\n",
        "plt.show()"
      ],
      "metadata": {
        "id": "tVY_4k6V922i",
        "colab": {
          "base_uri": "https://localhost:8080/",
          "height": 300
        },
        "outputId": "12cd5181-6705-4aa0-fdf9-816020459cf3"
      },
      "execution_count": 90,
      "outputs": [
        {
          "output_type": "display_data",
          "data": {
            "image/png": "[encoded data removed]",
            "text/plain": [
              "<Figure size 432x288 with 1 Axes>"
            ]
          },
          "metadata": {
            "needs_background": "light"
          }
        }
      ]
    },
    {
      "cell_type": "code",
      "source": [
        "#Lectura de datos tomados en el laboratorio\n",
        "\n",
        "xc3 = pd.read_excel('T.B lab1.xlsx','C,C',usecols='D',skiprows=[7,8,9,10,11,12])\n",
        "yc3 = pd.read_excel('T.B lab1.xlsx','C,C',usecols='D',skiprows=[1,2,3,4,5,6])\n",
        "\n",
        "#creacion de vectores:\n",
        "\n",
        "xc3 = np.array(xc3)\n",
        "yc3 = np.array(yc3)\n",
        "\n",
        "fig, ax = plt.subplots()\n",
        "ax.plot(xc3,yc3,'k*')\n",
        "ax.set_title('voltaje  de -0.7[v]', loc = \"center\", fontdict = {'fontsize':14, 'fontweight':'bold', 'color':'gray'})\n",
        "ax.set_xlabel(\"x [cm]\", fontdict = {'fontsize':14, 'fontweight':'bold', 'color':'tab:gray'})\n",
        "ax.set_ylabel(\"y [cm]\", fontdict = {'fontsize':14, 'fontweight':'bold', 'color':'tab:gray'})\n",
        "plt.show()"
      ],
      "metadata": {
        "id": "arTjzWafsAXt",
        "colab": {
          "base_uri": "https://localhost:8080/",
          "height": 300
        },
        "outputId": "e6235559-b34c-4f69-a433-a9560a60d381"
      },
      "execution_count": 92,
      "outputs": [
        {
          "output_type": "display_data",
          "data": {
            "image/png": "[encoded data removed]",
            "text/plain": [
              "<Figure size 432x288 with 1 Axes>"
            ]
          },
          "metadata": {
            "needs_background": "light"
          }
        }
      ]
    },
    {
      "cell_type": "code",
      "source": [
        "#Lectura de datos tomados en el laboratorio\n",
        "\n",
        "xc4 = pd.read_excel('T.B lab1.xlsx','C,C',usecols='E',skiprows=[7,8,9,10,11,12])\n",
        "yc4 = pd.read_excel('T.B lab1.xlsx','C,C',usecols='E',skiprows=[1,2,3,4,5,6])\n",
        "\n",
        "#creacion de vectores:\n",
        "\n",
        "xc4 = np.array(xc4)\n",
        "yc4 = np.array(yc4)\n",
        "\n",
        "fig, ax = plt.subplots()\n",
        "ax.plot(xc4,yc4,'m*')\n",
        "ax.set_title('voltaje  de -1.6[v]', loc = \"center\", fontdict = {'fontsize':14, 'fontweight':'bold', 'color':'gray'})\n",
        "ax.set_xlabel(\"x [cm]\", fontdict = {'fontsize':14, 'fontweight':'bold', 'color':'tab:gray'})\n",
        "ax.set_ylabel(\"y [cm]\", fontdict = {'fontsize':14, 'fontweight':'bold', 'color':'tab:gray'})\n",
        "plt.show()"
      ],
      "metadata": {
        "id": "kO4TD2ZdsGXd",
        "colab": {
          "base_uri": "https://localhost:8080/",
          "height": 300
        },
        "outputId": "1ed6d07a-491f-4722-fbcc-f6712c8f1a51"
      },
      "execution_count": 94,
      "outputs": [
        {
          "output_type": "display_data",
          "data": {
            "image/png": "[encoded data removed]",
            "text/plain": [
              "<Figure size 432x288 with 1 Axes>"
            ]
          },
          "metadata": {
            "needs_background": "light"
          }
        }
      ]
    },
    {
      "cell_type": "code",
      "source": [
        "#Lectura de datos tomados en el laboratorio\n",
        "\n",
        "xc5 = pd.read_excel('T.B lab1.xlsx','C,C',usecols='F',skiprows=[7,8,9,10,11,12])\n",
        "yc5 = pd.read_excel('T.B lab1.xlsx','C,C',usecols='F',skiprows=[1,2,3,4,5,6])\n",
        "\n",
        "#creacion de vectores:\n",
        "\n",
        "xc5 = np.array(xc5)\n",
        "yc5 = np.array(yc5)\n",
        "\n",
        "fig, ax = plt.subplots()\n",
        "ax.plot(xc5,yc5,'c*')\n",
        "ax.set_title('voltaje  de -1.6[v]', loc = \"center\", fontdict = {'fontsize':14, 'fontweight':'bold', 'color':'gray'})\n",
        "ax.set_xlabel(\"x [cm]\", fontdict = {'fontsize':14, 'fontweight':'bold', 'color':'tab:gray'})\n",
        "ax.set_ylabel(\"y [cm]\", fontdict = {'fontsize':14, 'fontweight':'bold', 'color':'tab:gray'})\n",
        "plt.show()"
      ],
      "metadata": {
        "id": "HXzgDsI1s-Is",
        "colab": {
          "base_uri": "https://localhost:8080/",
          "height": 300
        },
        "outputId": "e2120872-07f2-4610-f966-82e27c6d396e"
      },
      "execution_count": 96,
      "outputs": [
        {
          "output_type": "display_data",
          "data": {
            "image/png": "[encoded data removed]",
            "text/plain": [
              "<Figure size 432x288 with 1 Axes>"
            ]
          },
          "metadata": {
            "needs_background": "light"
          }
        }
      ]
    },
    {
      "cell_type": "code",
      "source": [
        "#Lectura de datos tomados en el laboratorio\n",
        "\n",
        "xc6 = pd.read_excel('T.B lab1.xlsx','C,C',usecols='G',skiprows=[7,8,9,10,11,12])\n",
        "yc6 = pd.read_excel('T.B lab1.xlsx','C,C',usecols='G',skiprows=[1,2,3,4,5,6])\n",
        "\n",
        "#creacion de vectores:\n",
        "\n",
        "xc6 = np.array(xc6)\n",
        "yc6 = np.array(yc6)\n",
        "\n",
        "fig, ax = plt.subplots()\n",
        "ax.plot(xc6,yc6,'y*')\n",
        "ax.set_title('voltaje  de -1.6[v]', loc = \"center\", fontdict = {'fontsize':14, 'fontweight':'bold', 'color':'gray'})\n",
        "ax.set_xlabel(\"x [cm]\", fontdict = {'fontsize':14, 'fontweight':'bold', 'color':'tab:gray'})\n",
        "ax.set_ylabel(\"y [cm]\", fontdict = {'fontsize':14, 'fontweight':'bold', 'color':'tab:gray'})\n",
        "plt.show()"
      ],
      "metadata": {
        "id": "4wkbdya0tQFb",
        "colab": {
          "base_uri": "https://localhost:8080/",
          "height": 300
        },
        "outputId": "7a18de64-5694-4bd2-d1de-ee262f3135ed"
      },
      "execution_count": 98,
      "outputs": [
        {
          "output_type": "display_data",
          "data": {
            "image/png": "[encoded data removed]",
            "text/plain": [
              "<Figure size 432x288 with 1 Axes>"
            ]
          },
          "metadata": {
            "needs_background": "light"
          }
        }
      ]
    },
    {
      "cell_type": "code",
      "source": [
        "v = (-3,-1.6,-0.7,3.53,1.7,0.92)\n",
        "l = (4,2,1,-4,-2,-1) #Los valores de esta lista puede ser cualquier columna de datos del eje X en el excel."
      ],
      "metadata": {
        "id": "P9lUKOysuDMi"
      },
      "execution_count": 100,
      "outputs": []
    },
    {
      "cell_type": "code",
      "source": [
        "E=[]\n",
        "for cont in range(0,len(v)):\n",
        "\n",
        "  if cont < 5:\n",
        "    E.append((v[cont]-v[cont+1])/(l[cont]-l[cont+1])) #Recuerda que se toman 4 valores, dos para el voltaje y dos de posicion.\n",
        "    \n",
        "  if cont == 5:\n",
        "    break\n",
        "print(E) #Arroja lista de los valores de campo electrico para cada conjunto de puntos."
      ],
      "metadata": {
        "colab": {
          "base_uri": "https://localhost:8080/"
        },
        "id": "e-Ibi4Git9j5",
        "outputId": "c8fe692e-0df0-454a-ded7-0dea0bcc6550"
      },
      "execution_count": 101,
      "outputs": [
        {
          "output_type": "stream",
          "name": "stdout",
          "text": [
            "[-0.7, -0.9000000000000001, -0.8459999999999999, -0.9149999999999999, -0.7799999999999999]\n"
          ]
        }
      ]
    },
    {
      "cell_type": "markdown",
      "source": [
        "INICIANDO EN ELECTRODO CIRCULAR."
      ],
      "metadata": {
        "id": "jDcF6Dbs2hW0"
      }
    },
    {
      "cell_type": "code",
      "source": [
        "#Lectura de datos tomados en el laboratorio\n",
        "\n",
        "x_cp1 = pd.read_excel('T.B lab1.xlsx','c,p',usecols='B',skiprows=[7,8,9,10,11,12])\n",
        "y_cp1 = pd.read_excel('T.B lab1.xlsx','c,p',usecols='B',skiprows=[1,2,3,4,5,6])\n",
        "\n",
        "#creacion de vectores:\n",
        "\n",
        "x_cp1 = np.array(x_cp1)\n",
        "y_cp1 = np.array(y_cp1)\n",
        "\n",
        "fig, ax = plt.subplots()\n",
        "ax.plot(x_cp1,y_cp1,'g*')\n",
        "ax.set_title('voltaje  de -4.8[v]', loc = \"center\", fontdict = {'fontsize':14, 'fontweight':'bold', 'color':'gray'})\n",
        "ax.set_xlabel(\"x [cm]\", fontdict = {'fontsize':14, 'fontweight':'bold', 'color':'tab:gray'})\n",
        "ax.set_ylabel(\"y [cm]\", fontdict = {'fontsize':14, 'fontweight':'bold', 'color':'tab:gray'})\n",
        "plt.show()"
      ],
      "metadata": {
        "id": "Q5ciolSk2OSI",
        "colab": {
          "base_uri": "https://localhost:8080/",
          "height": 300
        },
        "outputId": "182304a4-a856-4c06-a444-2572b122fe94"
      },
      "execution_count": 102,
      "outputs": [
        {
          "output_type": "display_data",
          "data": {
            "image/png": "[encoded data removed]",
            "text/plain": [
              "<Figure size 432x288 with 1 Axes>"
            ]
          },
          "metadata": {
            "needs_background": "light"
          }
        }
      ]
    },
    {
      "cell_type": "code",
      "source": [
        "#Lectura de datos tomados en el laboratorio\n",
        "\n",
        "x_cp2 = pd.read_excel('T.B lab1.xlsx','c,p',usecols='C',skiprows=[7,8,9,10,11,12])\n",
        "y_cp2 = pd.read_excel('T.B lab1.xlsx','c,p',usecols='C',skiprows=[1,2,3,4,5,6])\n",
        "\n",
        "#creacion de vectores:\n",
        "\n",
        "x_cp2 = np.array(x_cp2)\n",
        "y_cp2 = np.array(y_cp2)\n",
        "\n",
        "fig, ax = plt.subplots()\n",
        "ax.plot(x_cp2,y_cp2,'b*')\n",
        "ax.set_title('voltaje  de -2.1[v]', loc = \"center\", fontdict = {'fontsize':14, 'fontweight':'bold', 'color':'gray'})\n",
        "ax.set_xlabel(\"x [cm]\", fontdict = {'fontsize':14, 'fontweight':'bold', 'color':'tab:gray'})\n",
        "ax.set_ylabel(\"y [cm]\", fontdict = {'fontsize':14, 'fontweight':'bold', 'color':'tab:gray'})\n",
        "plt.show()"
      ],
      "metadata": {
        "id": "ftaju3hh3V0A",
        "colab": {
          "base_uri": "https://localhost:8080/",
          "height": 300
        },
        "outputId": "43f2be26-5abc-4368-e1f3-e278b2198672"
      },
      "execution_count": 104,
      "outputs": [
        {
          "output_type": "display_data",
          "data": {
            "image/png": "[encoded data removed]",
            "text/plain": [
              "<Figure size 432x288 with 1 Axes>"
            ]
          },
          "metadata": {
            "needs_background": "light"
          }
        }
      ]
    },
    {
      "cell_type": "code",
      "source": [
        "#Lectura de datos tomados en el laboratorio\n",
        "\n",
        "x_cp3 = pd.read_excel('T.B lab1.xlsx','c,p',usecols='D',skiprows=[7,8,9,10,11,12])\n",
        "y_cp3 = pd.read_excel('T.B lab1.xlsx','c,p',usecols='D',skiprows=[1,2,3,4,5,6])\n",
        "\n",
        "#creacion de vectores:\n",
        "\n",
        "x_cp3 = np.array(x_cp3)\n",
        "y_cp3 = np.array(y_cp3)\n",
        "\n",
        "fig, ax = plt.subplots()\n",
        "ax.plot(x_cp3,y_cp3,'k*')\n",
        "ax.set_title('voltaje  de -2.1[v]', loc = \"center\", fontdict = {'fontsize':14, 'fontweight':'bold', 'color':'gray'})\n",
        "ax.set_xlabel(\"x [cm]\", fontdict = {'fontsize':14, 'fontweight':'bold', 'color':'tab:gray'})\n",
        "ax.set_ylabel(\"y [cm]\", fontdict = {'fontsize':14, 'fontweight':'bold', 'color':'tab:gray'})\n",
        "plt.show()"
      ],
      "metadata": {
        "id": "rVit2yJm7KKk",
        "colab": {
          "base_uri": "https://localhost:8080/",
          "height": 300
        },
        "outputId": "eae4b0a2-641a-4ef1-e44f-eab90d49f5de"
      },
      "execution_count": 106,
      "outputs": [
        {
          "output_type": "display_data",
          "data": {
            "image/png": "[encoded data removed]",
            "text/plain": [
              "<Figure size 432x288 with 1 Axes>"
            ]
          },
          "metadata": {
            "needs_background": "light"
          }
        }
      ]
    },
    {
      "cell_type": "markdown",
      "source": [
        "INICIANDO EN ELECTRODO RECTANGULAR"
      ],
      "metadata": {
        "id": "RkTPCz1e7ux1"
      }
    },
    {
      "cell_type": "code",
      "source": [
        "#Lectura de datos tomados en el laboratorio\n",
        "\n",
        "x_pc1 = pd.read_excel('T.B lab1.xlsx','c,p',usecols='E',skiprows=[7,8,9,10,11,12])\n",
        "y_pc1 = pd.read_excel('T.B lab1.xlsx','c,p',usecols='E',skiprows=[1,2,3,4,5,6])\n",
        "\n",
        "#creacion de vectores:\n",
        "\n",
        "x_pc1 = np.array(x_pc1)\n",
        "y_pc1 = np.array(y_pc1)\n",
        "\n",
        "fig, ax = plt.subplots()\n",
        "ax.plot(x_pc1,y_pc1,'r*')\n",
        "ax.set_title('voltaje  de -2.1[v]', loc = \"center\", fontdict = {'fontsize':14, 'fontweight':'bold', 'color':'gray'})\n",
        "ax.set_xlabel(\"x [cm]\", fontdict = {'fontsize':14, 'fontweight':'bold', 'color':'tab:gray'})\n",
        "ax.set_ylabel(\"y [cm]\", fontdict = {'fontsize':14, 'fontweight':'bold', 'color':'tab:gray'})\n",
        "plt.show()"
      ],
      "metadata": {
        "id": "CFqag7gb7sIb",
        "colab": {
          "base_uri": "https://localhost:8080/",
          "height": 300
        },
        "outputId": "a9abe94d-735e-4aee-b919-a05973b56e70"
      },
      "execution_count": 108,
      "outputs": [
        {
          "output_type": "display_data",
          "data": {
            "image/png": "[encoded data removed]",
            "text/plain": [
              "<Figure size 432x288 with 1 Axes>"
            ]
          },
          "metadata": {
            "needs_background": "light"
          }
        }
      ]
    },
    {
      "cell_type": "code",
      "source": [
        "#Lectura de datos tomados en el laboratorio\n",
        "\n",
        "x_pc2 = pd.read_excel('T.B lab1.xlsx','c,p',usecols='F',skiprows=[7,8,9,10,11,12])\n",
        "y_pc2 = pd.read_excel('T.B lab1.xlsx','c,p',usecols='F',skiprows=[1,2,3,4,5,6])\n",
        "\n",
        "#creacion de vectores:\n",
        "\n",
        "x_pc2 = np.array(x_pc2)\n",
        "y_pc2 = np.array(y_pc2)\n",
        "\n",
        "fig, ax = plt.subplots()\n",
        "ax.plot(x_pc2,y_pc2,'m*')\n",
        "ax.set_title('voltaje  de -2.1[v]', loc = \"center\", fontdict = {'fontsize':14, 'fontweight':'bold', 'color':'gray'})\n",
        "ax.set_xlabel(\"x [cm]\", fontdict = {'fontsize':14, 'fontweight':'bold', 'color':'tab:gray'})\n",
        "ax.set_ylabel(\"y [cm]\", fontdict = {'fontsize':14, 'fontweight':'bold', 'color':'tab:gray'})\n",
        "plt.show()"
      ],
      "metadata": {
        "id": "UGQHsnsZ8gBm",
        "colab": {
          "base_uri": "https://localhost:8080/",
          "height": 300
        },
        "outputId": "353a5d31-63ed-401b-e55c-3729295493b7"
      },
      "execution_count": 110,
      "outputs": [
        {
          "output_type": "display_data",
          "data": {
            "image/png": "[encoded data removed]",
            "text/plain": [
              "<Figure size 432x288 with 1 Axes>"
            ]
          },
          "metadata": {
            "needs_background": "light"
          }
        }
      ]
    },
    {
      "cell_type": "code",
      "source": [
        "#Lectura de datos tomados en el laboratorio\n",
        "\n",
        "x_pc3 = pd.read_excel('T.B lab1.xlsx','c,p',usecols='G',skiprows=[7,8,9,10,11,12])\n",
        "y_pc3 = pd.read_excel('T.B lab1.xlsx','c,p',usecols='G',skiprows=[1,2,3,4,5,6])\n",
        "\n",
        "#creacion de vectores:\n",
        "\n",
        "x_pc3 = np.array(x_pc3)\n",
        "y_pc3 = np.array(y_pc3)\n",
        "\n",
        "fig, ax = plt.subplots()\n",
        "ax.plot(x_pc3,y_pc3,'c*')\n",
        "ax.set_title('voltaje  de -2.1[v]', loc = \"center\", fontdict = {'fontsize':14, 'fontweight':'bold', 'color':'gray'})\n",
        "ax.set_xlabel(\"x [cm]\", fontdict = {'fontsize':14, 'fontweight':'bold', 'color':'tab:gray'})\n",
        "ax.set_ylabel(\"y [cm]\", fontdict = {'fontsize':14, 'fontweight':'bold', 'color':'tab:gray'})\n",
        "plt.show()"
      ],
      "metadata": {
        "id": "B6wjvMLx8qwP",
        "colab": {
          "base_uri": "https://localhost:8080/",
          "height": 300
        },
        "outputId": "b12f7209-c989-4b51-c673-ee39e9d39dc7"
      },
      "execution_count": 112,
      "outputs": [
        {
          "output_type": "display_data",
          "data": {
            "image/png": "[encoded data removed]",
            "text/plain": [
              "<Figure size 432x288 with 1 Axes>"
            ]
          },
          "metadata": {
            "needs_background": "light"
          }
        }
      ]
    },
    {
      "cell_type": "code",
      "source": [
        "v = (-4.8,-2.1,-0.42,4.2,2,0.85)\n",
        "l = (10,5,1,-10,-5,-2) #Los valores de esta lista puede ser cualquier columna de datos del eje X en el excel."
      ],
      "metadata": {
        "id": "1pECzFIGqYsN"
      },
      "execution_count": 114,
      "outputs": []
    },
    {
      "cell_type": "code",
      "source": [
        "E=[]\n",
        "for cont in range(0,len(v)):\n",
        "\n",
        "  if cont < 5:\n",
        "    E.append((v[cont]-v[cont+1])/(l[cont]-l[cont+1])) #Recuerda que se toman 4 valores, dos para el voltaje y dos de posicion.\n",
        "    \n",
        "  if cont == 5:\n",
        "    break\n",
        "print(E) #Arroja lista de los valores de campo electrico para cada conjunto de puntos."
      ],
      "metadata": {
        "colab": {
          "base_uri": "https://localhost:8080/"
        },
        "id": "FIggVlqDqWQN",
        "outputId": "805a4232-5531-4731-a975-45157c24d4eb"
      },
      "execution_count": 115,
      "outputs": [
        {
          "output_type": "stream",
          "name": "stdout",
          "text": [
            "[-0.5399999999999999, -0.42000000000000004, -0.42, -0.44000000000000006, -0.3833333333333333]\n"
          ]
        }
      ]
    },
    {
      "cell_type": "markdown",
      "source": [
        "SUPERFICIES EQUIPOTENCIALES"
      ],
      "metadata": {
        "id": "7TgB_XEkwfPB"
      }
    },
    {
      "cell_type": "code",
      "source": [
        "fig, ax = plt.subplots()\n",
        "ax.plot(x1,y1,'c*',label='ola')\n",
        "ax.plot(x2,y2,'m*')\n",
        "ax.plot(x3,y3,'r*')\n",
        "ax.plot(x4,y4,'b*')\n",
        "ax.plot(x5,y5,'k*')\n",
        "ax.plot(x6,y6,'y*')\n",
        "ax.set_title('Electrodos Rectangulares', loc = \"center\", fontdict = {'fontsize':14, 'fontweight':'bold', 'color':'gray'})\n",
        "ax.set_xlabel(\"x [cm]\", fontdict = {'fontsize':14, 'fontweight':'bold', 'color':'tab:gray'})\n",
        "ax.set_ylabel(\"y [cm]\", fontdict = {'fontsize':14, 'fontweight':'bold', 'color':'tab:gray'})\n",
        "plt.show()"
      ],
      "metadata": {
        "colab": {
          "base_uri": "https://localhost:8080/",
          "height": 300
        },
        "id": "sywJnaH3wh1l",
        "outputId": "2ffb1d4b-8768-4bb5-8bc9-6c6633459c89"
      },
      "execution_count": 123,
      "outputs": [
        {
          "output_type": "display_data",
          "data": {
            "image/png": "[encoded data removed]",
            "text/plain": [
              "<Figure size 432x288 with 1 Axes>"
            ]
          },
          "metadata": {
            "needs_background": "light"
          }
        }
      ]
    },
    {
      "cell_type": "code",
      "source": [
        "fig, ax = plt.subplots()\n",
        "ax.plot(xc1,yc1,'c*',label='ola')\n",
        "ax.plot(xc2,yc2,'m*')\n",
        "ax.plot(xc3,yc3,'r*')\n",
        "ax.plot(xc4,yc4,'b*')\n",
        "ax.plot(xc5,yc5,'k*')\n",
        "ax.plot(xc6,yc6,'y*')\n",
        "ax.set_title('Electrodos circulares', loc = \"center\", fontdict = {'fontsize':14, 'fontweight':'bold', 'color':'gray'})\n",
        "ax.set_xlabel(\"x [cm]\", fontdict = {'fontsize':14, 'fontweight':'bold', 'color':'tab:gray'})\n",
        "ax.set_ylabel(\"y [cm]\", fontdict = {'fontsize':14, 'fontweight':'bold', 'color':'tab:gray'})\n",
        "\n",
        "plt.show()"
      ],
      "metadata": {
        "colab": {
          "base_uri": "https://localhost:8080/",
          "height": 300
        },
        "id": "dd8uDuqxxQZW",
        "outputId": "40a2632d-b99f-4588-e98f-ce7c548df08e"
      },
      "execution_count": 124,
      "outputs": [
        {
          "output_type": "display_data",
          "data": {
            "image/png": "[encoded data removed]",
            "text/plain": [
              "<Figure size 432x288 with 1 Axes>"
            ]
          },
          "metadata": {
            "needs_background": "light"
          }
        }
      ]
    },
    {
      "cell_type": "code",
      "source": [
        "fig, ax = plt.subplots()\n",
        "ax.plot(x_cp1,y_cp1,'c*',label='ola')\n",
        "ax.plot(x_cp2,y_cp2,'m*')\n",
        "ax.plot(x_cp3,y_cp3,'r*')\n",
        "ax.plot(x_pc1,y_pc1,'b*')\n",
        "ax.plot(x_pc2,y_pc2,'k*')\n",
        "ax.plot(x_pc3,y_pc3,'y*')\n",
        "ax.set_title('Electrodos Mixtos', loc = \"center\", fontdict = {'fontsize':14, 'fontweight':'bold', 'color':'gray'})\n",
        "ax.set_xlabel(\"x [cm]\", fontdict = {'fontsize':14, 'fontweight':'bold', 'color':'tab:gray'})\n",
        "ax.set_ylabel(\"y [cm]\", fontdict = {'fontsize':14, 'fontweight':'bold', 'color':'tab:gray'})\n",
        "\n",
        "plt.show()"
      ],
      "metadata": {
        "colab": {
          "base_uri": "https://localhost:8080/",
          "height": 300
        },
        "id": "xTe39QrC2IgP",
        "outputId": "8216dd69-2899-482a-829b-6a622fe1212f"
      },
      "execution_count": 122,
      "outputs": [
        {
          "output_type": "display_data",
          "data": {
            "image/png": "[encoded data removed]",
            "text/plain": [
              "<Figure size 432x288 with 1 Axes>"
            ]
          },
          "metadata": {
            "needs_background": "light"
          }
        }
      ]
    }
  ],
  "metadata": {
    "colab": {
      "name": "LAB1",
      "provenance": []
    },
    "kernelspec": {
      "display_name": "Python 3",
      "name": "python3"
    },
    "language_info": {
      "name": "python"
    }
  },
  "nbformat": 4,
  "nbformat_minor": 0
}