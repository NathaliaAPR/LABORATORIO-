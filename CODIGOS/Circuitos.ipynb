{
  "nbformat": 4,
  "nbformat_minor": 0,
  "metadata": {
    "colab": {
      "name": "Circuitos",
      "provenance": [],
      "collapsed_sections": []
    },
    "kernelspec": {
      "name": "python3",
      "display_name": "Python 3"
    },
    "language_info": {
      "name": "python"
    }
  },
  "cells": [
    {
      "cell_type": "code",
      "execution_count": 2,
      "metadata": {
        "id": "qmo3t_u9VENN"
      },
      "outputs": [],
      "source": [
        "import pandas as pd\n",
        "import numpy as np\n",
        "import matplotlib as plt"
      ]
    },
    {
      "cell_type": "code",
      "source": [
        "#Resistencias(todos los circuitos usan estos valores de resistencia.).\n",
        "Re= np.array([46.4,99.1,149.6,214.7])"
      ],
      "metadata": {
        "id": "TZeDKJPPWi_K"
      },
      "execution_count": 3,
      "outputs": []
    },
    {
      "cell_type": "markdown",
      "source": [
        "CIRCUITOS EN SERIE"
      ],
      "metadata": {
        "id": "-v8JlzPvWNa7"
      }
    },
    {
      "cell_type": "code",
      "source": [
        "vs = pd.read_excel('CORRIENTES.xlsx',usecols='E', skiprows=1)\n",
        "vs = np.array(vs)"
      ],
      "metadata": {
        "id": "UT8QGdc9Zwno"
      },
      "execution_count": 4,
      "outputs": []
    },
    {
      "cell_type": "code",
      "source": [
        "#voltaje\n",
        "voltaje = sum(vs)\n",
        "\n",
        "error = abs(9.9 - voltaje) \n",
        "\n",
        "print('El voltaje total experimental es:  ' ,voltaje, 'y el error entre el voltaje teorico y el experimental es:', error)"
      ],
      "metadata": {
        "colab": {
          "base_uri": "https://localhost:8080/"
        },
        "id": "xrClmsOMahB-",
        "outputId": "0806118f-7c85-45b6-a4d8-43975dfd071a"
      },
      "execution_count": 5,
      "outputs": [
        {
          "output_type": "stream",
          "name": "stdout",
          "text": [
            "El voltaje total experimental es:   [9.989] y el error entre el voltaje teorico y el experimental es: [0.089]\n"
          ]
        }
      ]
    },
    {
      "cell_type": "code",
      "source": [
        "#corriente:\n",
        "\n",
        "It = 19.70\n",
        "Ie = pd.read_excel('CORRIENTES.xlsx',usecols='G', skiprows=1)\n",
        "Ie = np.array(Ie)\n",
        "\n",
        "Error = abs(It-Ie)\n",
        "\n",
        "print('La corriente del circuito es:',Ie,'El error entre las corrientes es:',Error)"
      ],
      "metadata": {
        "colab": {
          "base_uri": "https://localhost:8080/"
        },
        "id": "NcQioLDqdHgu",
        "outputId": "1d978aa4-2ad5-479e-ecb9-de1e4f886cec"
      },
      "execution_count": 6,
      "outputs": [
        {
          "output_type": "stream",
          "name": "stdout",
          "text": [
            "La corriente del circuito es: [[19.71]\n",
            " [19.7 ]\n",
            " [19.73]\n",
            " [19.69]] El error entre las corrientes es: [[0.01]\n",
            " [0.  ]\n",
            " [0.03]\n",
            " [0.01]]\n"
          ]
        }
      ]
    },
    {
      "cell_type": "code",
      "source": [
        "#Resistencia equivalente.\n",
        "\n",
        "Resistencia = sum(Re)\n",
        "print(Resistencia)"
      ],
      "metadata": {
        "colab": {
          "base_uri": "https://localhost:8080/"
        },
        "id": "RBBkvS9tfT12",
        "outputId": "1eb6a2de-e84a-4a48-b67c-4d399e2de416"
      },
      "execution_count": 7,
      "outputs": [
        {
          "output_type": "stream",
          "name": "stdout",
          "text": [
            "509.8\n"
          ]
        }
      ]
    },
    {
      "cell_type": "code",
      "source": [
        "#Potencia:\n",
        "\n",
        "p= (It)**2*Resistencia"
      ],
      "metadata": {
        "id": "Eixvj-fWCJre"
      },
      "execution_count": 8,
      "outputs": []
    },
    {
      "cell_type": "code",
      "source": [
        "print(p,'w')"
      ],
      "metadata": {
        "colab": {
          "base_uri": "https://localhost:8080/"
        },
        "id": "1Cvew9gzCohu",
        "outputId": "59ddc2de-492c-433b-d2dd-8d9adbc149a8"
      },
      "execution_count": 9,
      "outputs": [
        {
          "output_type": "stream",
          "name": "stdout",
          "text": [
            "197848.28199999998 w\n"
          ]
        }
      ]
    },
    {
      "cell_type": "markdown",
      "source": [
        "CIRCUITOS EN PARALELO"
      ],
      "metadata": {
        "id": "33I1O7k6fjnU"
      }
    },
    {
      "cell_type": "code",
      "source": [
        "#VOLTAJE.\n",
        "\n",
        "vpt= 4.3\n",
        "\n",
        "vpe = pd.read_excel('CORRIENTES.xlsx','PARALELO',usecols='E', skiprows=1)\n",
        "vpe = np.array(vpe)\n",
        "\n",
        "errorp= vpe-vpt\n",
        "print('El voltaje del circuito es:',[4.34],'y el error:',[0.04])"
      ],
      "metadata": {
        "colab": {
          "base_uri": "https://localhost:8080/"
        },
        "id": "_A3fQXEmfor-",
        "outputId": "5984b57b-242b-4608-a700-30130878e8af"
      },
      "execution_count": 10,
      "outputs": [
        {
          "output_type": "stream",
          "name": "stdout",
          "text": [
            "El voltaje del circuito es: [4.34] y el error: [0.04]\n"
          ]
        }
      ]
    },
    {
      "cell_type": "code",
      "source": [
        "#corriente \n",
        "\n",
        "Ipt= 2\n",
        "\n",
        "Ipe =  pd.read_excel('CORRIENTES.xlsx','PARALELO',usecols='G', skiprows=1)\n",
        "Ipe = np.array(Ipe)\n",
        "\n",
        "Ipe_t= sum(Ipe)\n",
        "error = abs(Ipt-Ipe_t) \n",
        "\n",
        "print('La corriente del circuito es:',Ipe_t,'y el error:',error)"
      ],
      "metadata": {
        "id": "s5jAI3oqhBr_",
        "colab": {
          "base_uri": "https://localhost:8080/"
        },
        "outputId": "c81d4dea-84fc-44f3-e8dd-6622613fde3b"
      },
      "execution_count": 11,
      "outputs": [
        {
          "output_type": "stream",
          "name": "stdout",
          "text": [
            "La corriente del circuito es: [1.9] y el error: [0.1]\n"
          ]
        }
      ]
    },
    {
      "cell_type": "code",
      "source": [
        "#Resistencia equivalente:\n",
        "\n",
        "Rpt= (1/sum(Re))**-1\n",
        "print(Rpt)"
      ],
      "metadata": {
        "colab": {
          "base_uri": "https://localhost:8080/"
        },
        "id": "vGDlrp4Ij7G3",
        "outputId": "73e9b359-9244-4ce4-e0db-e8d91c7dbefa"
      },
      "execution_count": 12,
      "outputs": [
        {
          "output_type": "stream",
          "name": "stdout",
          "text": [
            "509.8\n"
          ]
        }
      ]
    },
    {
      "cell_type": "code",
      "source": [
        "#potencia:\n",
        "\n",
        "pp= (Ipe_t)**2*Rpt\n",
        "print(pp,'w')"
      ],
      "metadata": {
        "colab": {
          "base_uri": "https://localhost:8080/"
        },
        "id": "S0NUt1TjECKq",
        "outputId": "b9f61868-7d8e-4a27-d024-2ac029e37fb5"
      },
      "execution_count": 13,
      "outputs": [
        {
          "output_type": "stream",
          "name": "stdout",
          "text": [
            "[1840.378] w\n"
          ]
        }
      ]
    },
    {
      "cell_type": "markdown",
      "source": [
        "**CIRCUITOS MIXTOS**\n"
      ],
      "metadata": {
        "id": "PSqST6uelFNC"
      }
    },
    {
      "cell_type": "code",
      "source": [
        "#voltaje:\n",
        "\n",
        "#voltaje en x.\n",
        "voltajex= 1.1 + 2.333\n",
        "\n",
        "#voltaje en y.\n",
        "\n",
        "voltajey = voltajex + 1.553\n",
        "\n",
        "error= 5-voltajey \n",
        "\n",
        "print('El voltaje del circuito es:',voltajey,'y el error:',error)"
      ],
      "metadata": {
        "colab": {
          "base_uri": "https://localhost:8080/"
        },
        "id": "jGtB7pYa8-MA",
        "outputId": "534df447-2ae6-4ea3-fe80-e324f64c3058"
      },
      "execution_count": 14,
      "outputs": [
        {
          "output_type": "stream",
          "name": "stdout",
          "text": [
            "El voltaje del circuito es: 4.986000000000001 y el error: 0.013999999999999346\n"
          ]
        }
      ]
    },
    {
      "cell_type": "code",
      "source": [
        "#corrientes:\n",
        "\n",
        "#x Paralelo\n",
        "\n",
        "Im= 10.67 + 22.7\n",
        "\n",
        "errorI= 33.35-Im\n",
        "\n",
        "print('La corriente del circuito es:',Im,'y el error:',errorI)"
      ],
      "metadata": {
        "colab": {
          "base_uri": "https://localhost:8080/"
        },
        "id": "chqC_hLk-kP0",
        "outputId": "6e9ffa72-b007-4833-89c2-56bacb1640c7"
      },
      "execution_count": 15,
      "outputs": [
        {
          "output_type": "stream",
          "name": "stdout",
          "text": [
            "La corriente del circuito es: 33.37 y el error: -0.01999999999999602\n"
          ]
        }
      ]
    },
    {
      "cell_type": "code",
      "source": [
        "#Resistencia equivalente\n",
        "r1 = 46.4 + 99.1\n",
        "r2= (r1 + 149.6)\n",
        "r3= r2+214.7"
      ],
      "metadata": {
        "id": "sq1e4Qd9lIU4"
      },
      "execution_count": 16,
      "outputs": []
    },
    {
      "cell_type": "code",
      "source": [
        "print(r3)"
      ],
      "metadata": {
        "colab": {
          "base_uri": "https://localhost:8080/"
        },
        "id": "L6-bbUB8FWVI",
        "outputId": "3f1720d6-24f0-456f-e127-d525e51670eb"
      },
      "execution_count": 21,
      "outputs": [
        {
          "output_type": "stream",
          "name": "stdout",
          "text": [
            "509.8\n"
          ]
        }
      ]
    },
    {
      "cell_type": "code",
      "source": [
        "#potencia:\n",
        "pm = (Im**2)*(r3)\n",
        "print(pm,'w')"
      ],
      "metadata": {
        "colab": {
          "base_uri": "https://localhost:8080/"
        },
        "id": "LryFstBsEQkD",
        "outputId": "355dfc57-8a1a-45bd-a46d-79543c7c3229"
      },
      "execution_count": 17,
      "outputs": [
        {
          "output_type": "stream",
          "name": "stdout",
          "text": [
            "567691.3076199999 w\n"
          ]
        }
      ]
    }
  ]
}